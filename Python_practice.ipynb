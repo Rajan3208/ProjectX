{
 "cells": [
  {
   "cell_type": "code",
   "execution_count": 1,
   "id": "6693eacc-50b4-49dd-b92d-c7165c697895",
   "metadata": {},
   "outputs": [
    {
     "name": "stdout",
     "output_type": "stream",
     "text": [
      "['Rajuu', True, 1, 34]\n"
     ]
    }
   ],
   "source": [
    "lst = [\"Rajuu\", True, 1,34]\n",
    "print(lst)"
   ]
  },
  {
   "cell_type": "code",
   "execution_count": 2,
   "id": "3c72a9a8-2e8c-475b-b805-dd86f3314841",
   "metadata": {},
   "outputs": [
    {
     "name": "stdout",
     "output_type": "stream",
     "text": [
      "1\n"
     ]
    }
   ],
   "source": [
    "print(lst[2])"
   ]
  },
  {
   "cell_type": "code",
   "execution_count": 3,
   "id": "04eb4ca0-7fe8-45a1-a890-a087ea87ea62",
   "metadata": {},
   "outputs": [],
   "source": [
    "tup = (\"rajj\", 12334, \"djiu\")"
   ]
  },
  {
   "cell_type": "code",
   "execution_count": 4,
   "id": "77e046c8-0d27-4274-9c35-9de40b43e8c7",
   "metadata": {},
   "outputs": [
    {
     "name": "stdout",
     "output_type": "stream",
     "text": [
      "('rajj', 12334, 'djiu')\n"
     ]
    }
   ],
   "source": [
    "print(tup)"
   ]
  },
  {
   "cell_type": "code",
   "execution_count": 5,
   "id": "e2acfa96-d4ce-49b5-b89e-db2e8dc0d6e3",
   "metadata": {},
   "outputs": [
    {
     "name": "stdout",
     "output_type": "stream",
     "text": [
      "12334\n"
     ]
    }
   ],
   "source": [
    "print(tup[1])"
   ]
  },
  {
   "cell_type": "code",
   "execution_count": 15,
   "id": "da498848-b8b6-46c7-826f-aa7bf37519db",
   "metadata": {},
   "outputs": [
    {
     "name": "stdout",
     "output_type": "stream",
     "text": [
      "It is not a prime number\n"
     ]
    }
   ],
   "source": [
    "def IsPrime(n):\n",
    "    if(n<1):\n",
    "        print(\"It is not prime number\")\n",
    "        return\n",
    "    for i in range(2,int(n**0.5)+1):\n",
    "        if n%i==0:\n",
    "            print(\"It is not a prime number\")\n",
    "            return\n",
    "    print(\"It is prime number\")\n",
    "    \n",
    "IsPrime(8)        \n",
    "    "
   ]
  },
  {
   "cell_type": "code",
   "execution_count": 14,
   "id": "d6c9f6db-cb88-4bb6-8307-4c84480c07da",
   "metadata": {},
   "outputs": [
    {
     "data": {
      "text/plain": [
       "120"
      ]
     },
     "execution_count": 14,
     "metadata": {},
     "output_type": "execute_result"
    }
   ],
   "source": [
    "def factorial(n):\n",
    "    if n==0 or n==1:\n",
    "        return 1\n",
    "    else:\n",
    "        return n*factorial(n-1)\n",
    "        \n",
    "factorial(5)        \n",
    "    "
   ]
  },
  {
   "cell_type": "code",
   "execution_count": 16,
   "id": "809a4577-da25-4458-ba43-a118b56aeb5b",
   "metadata": {},
   "outputs": [
    {
     "name": "stdout",
     "output_type": "stream",
     "text": [
      "I from where all are Ganster and I want to become SDM\n"
     ]
    }
   ],
   "source": [
    "letter = \"I from where all are {0} and I want to become {1}\"\n",
    "raj=\"Ganster\"\n",
    "kum=\"SDM\"\n",
    "print(letter.format(raj, kum))"
   ]
  },
  {
   "cell_type": "code",
   "execution_count": 17,
   "id": "64b2561d-9acd-4566-904a-ad1d9a612ad3",
   "metadata": {},
   "outputs": [
    {
     "name": "stdout",
     "output_type": "stream",
     "text": [
      "You are from where I not sit {raj} and I am {kum}\n"
     ]
    }
   ],
   "source": [
    "print(f'You are from where I not sit {{raj}} and I am {{kum}}')"
   ]
  },
  {
   "cell_type": "code",
   "execution_count": 23,
   "id": "a92dd353-0a71-4ad1-acf1-6b424734cc55",
   "metadata": {},
   "outputs": [],
   "source": [
    "price = 2345453.23\n",
    "txt = (f\"Price is {price:.2f}rupees\")"
   ]
  },
  {
   "cell_type": "code",
   "execution_count": 24,
   "id": "50cdcdfa-467a-4c96-b1b4-3863e139ce42",
   "metadata": {},
   "outputs": [
    {
     "name": "stdout",
     "output_type": "stream",
     "text": [
      "Price is 2345453.23rupees\n"
     ]
    }
   ],
   "source": [
    "print(txt)"
   ]
  },
  {
   "cell_type": "code",
   "execution_count": 25,
   "id": "cddec65e-4cb3-4107-93b4-6774ce45ef45",
   "metadata": {},
   "outputs": [],
   "source": [
    "jaahu=\"SDM or DSP\"\n",
    "txt1=(f'I want to become {jaahu}')"
   ]
  },
  {
   "cell_type": "code",
   "execution_count": 26,
   "id": "7b27313e-4491-4c22-840f-4d6e55f2f93f",
   "metadata": {},
   "outputs": [
    {
     "name": "stdout",
     "output_type": "stream",
     "text": [
      "I want to become SDM or DSP\n"
     ]
    }
   ],
   "source": [
    "print(txt1)"
   ]
  },
  {
   "cell_type": "code",
   "execution_count": 27,
   "id": "c1d78d65-bfce-45e9-baa4-af5f4ffcca12",
   "metadata": {},
   "outputs": [
    {
     "name": "stdout",
     "output_type": "stream",
     "text": [
      "{12, 22, 23}\n"
     ]
    }
   ],
   "source": [
    "set = {23,22,12}\n",
    "print(set)"
   ]
  },
  {
   "cell_type": "code",
   "execution_count": 28,
   "id": "ac819e18-d984-4b9b-9952-14fa5444f02f",
   "metadata": {},
   "outputs": [],
   "source": [
    "set.add(232)"
   ]
  },
  {
   "cell_type": "code",
   "execution_count": 29,
   "id": "59b29603-0530-4299-8c86-8e601a0d920b",
   "metadata": {},
   "outputs": [
    {
     "name": "stdout",
     "output_type": "stream",
     "text": [
      "{232, 12, 22, 23}\n"
     ]
    }
   ],
   "source": [
    "print(set)"
   ]
  },
  {
   "cell_type": "code",
   "execution_count": 31,
   "id": "451a65c2-d504-4492-abce-1ff660fd0fc6",
   "metadata": {},
   "outputs": [],
   "source": [
    "set.remove(22)"
   ]
  },
  {
   "cell_type": "code",
   "execution_count": 32,
   "id": "5a6900bf-d8cd-4912-830e-138d5e5393f3",
   "metadata": {},
   "outputs": [
    {
     "name": "stdout",
     "output_type": "stream",
     "text": [
      "{232, 12, 23}\n"
     ]
    }
   ],
   "source": [
    "print(set)"
   ]
  },
  {
   "cell_type": "code",
   "execution_count": 34,
   "id": "0430bca1-e05d-4875-8bc6-69a75c2df1f0",
   "metadata": {},
   "outputs": [],
   "source": [
    "dic = {\n",
    "    55:1222,\n",
    "    12:\"Rajan\",\n",
    "    22333:12309122,\n",
    "    232:\"SDM or DSP\"\n",
    "}"
   ]
  },
  {
   "cell_type": "code",
   "execution_count": 37,
   "id": "f99ecaa0-3b1e-47ae-9086-237ad753de86",
   "metadata": {},
   "outputs": [
    {
     "name": "stdout",
     "output_type": "stream",
     "text": [
      "{55: 1222, 12: 'Rajan', 22333: 12309122, 232: 'SDM or DSP'}\n"
     ]
    }
   ],
   "source": [
    "print(dic)"
   ]
  },
  {
   "cell_type": "code",
   "execution_count": 46,
   "id": "42aafb08-251c-4405-9c70-85d7acc3fdca",
   "metadata": {},
   "outputs": [
    {
     "name": "stdout",
     "output_type": "stream",
     "text": [
      "Congratulations\n",
      "Congratulations\n",
      "Rajan is SDM or DSP\n",
      "Hurak is Developer\n"
     ]
    }
   ],
   "source": [
    "class Person:\n",
    "    def __init__(self,name,occ):\n",
    "        print(\"Congratulations\")\n",
    "        self.name=name\n",
    "        self.occ=occ\n",
    "    def info(self):\n",
    "        print(f\"{self.name} is {self.occ}\")\n",
    "        \n",
    "a=Person(\"Rajan\",\"SDM or DSP\")\n",
    "b=Person(\"Hurak\", \"Developer\")\n",
    "a.info()\n",
    "b.info()\n",
    "        "
   ]
  },
  {
   "cell_type": "code",
   "execution_count": 4,
   "id": "95fe75ee-d09e-411a-b591-23d790e72ffd",
   "metadata": {},
   "outputs": [
    {
     "name": "stdout",
     "output_type": "stream",
     "text": [
      "your salary is 323322 and id is 12\n"
     ]
    }
   ],
   "source": [
    "class Rajan:\n",
    "    def __init__(self, salary,id):\n",
    "        self.id=id\n",
    "        self.salary=salary\n",
    "    def rex(self):\n",
    "        print(f\"your salary is {self.salary} and id is {self.id}\")\n",
    "a=Rajan(323322, 12)\n",
    "a.rex()"
   ]
  },
  {
   "cell_type": "code",
   "execution_count": 6,
   "id": "0cf3395a-c97c-4361-aa55-316f58ae4435",
   "metadata": {},
   "outputs": [
    {
     "name": "stdout",
     "output_type": "stream",
     "text": [
      "[3, 4, 5, 6]\n"
     ]
    }
   ],
   "source": [
    "l=[1,2,3,4,5,6]\n",
    "def filter_function(a):\n",
    "    return a>2\n",
    "newlist = list(filter(filter_function,l))\n",
    "print(newlist)"
   ]
  },
  {
   "cell_type": "code",
   "execution_count": 13,
   "id": "0fe45fca-8311-45f3-8f1c-27076ea36adb",
   "metadata": {},
   "outputs": [
    {
     "name": "stdout",
     "output_type": "stream",
     "text": [
      "240\n"
     ]
    }
   ],
   "source": [
    "from functools import reduce\n",
    "numbers = [1,3,4,5,4]\n",
    "product = reduce(lambda x,y: x*y,numbers)\n",
    "print(product)\n"
   ]
  },
  {
   "cell_type": "code",
   "execution_count": 20,
   "id": "3e26b4b4-a531-4424-b015-605808f72794",
   "metadata": {},
   "outputs": [
    {
     "name": "stdout",
     "output_type": "stream",
     "text": [
      "Function add is about to called successfully\n",
      "Function add was called successfully\n",
      "8\n"
     ]
    },
    {
     "data": {
      "text/plain": [
       "'log_decorator takes a function as input.\\n\\nIt defines a wrapper that:\\n\\nPrints a message before the function runs.\\n\\nCalls the original function (func).\\n\\nPrints another message after the function finishes.\\n\\n@log_decorator applies this behavior to add.\\n\\nWhen you call add(3,5), you get:'"
      ]
     },
     "execution_count": 20,
     "metadata": {},
     "output_type": "execute_result"
    }
   ],
   "source": [
    "#decorators\n",
    "def log_decorator(func):\n",
    "    def wrapper(*args, **kwargs):\n",
    "        print(f'Function {func.__name__} is about to called successfully')\n",
    "        result = func(*args, **kwargs)\n",
    "        print(f'Function {func.__name__} was called successfully')\n",
    "\n",
    "        return result\n",
    "\n",
    "    return wrapper\n",
    "@log_decorator\n",
    "def add(a,b):\n",
    "    return a+b\n",
    "print(add(3,5))   \n",
    "\n",
    "'''log_decorator takes a function as input.\n",
    "\n",
    "It defines a wrapper that:\n",
    "\n",
    "Prints a message before the function runs.\n",
    "\n",
    "Calls the original function (func).\n",
    "\n",
    "Prints another message after the function finishes.\n",
    "\n",
    "@log_decorator applies this behavior to add.\n",
    "\n",
    "When you call add(3,5), you get:'''\n",
    "    \n",
    "\n",
    "    "
   ]
  },
  {
   "cell_type": "code",
   "execution_count": 1,
   "id": "e0297ecb-6753-4590-988a-48cb826ee30a",
   "metadata": {},
   "outputs": [
    {
     "name": "stdout",
     "output_type": "stream",
     "text": [
      "0\n",
      "1\n",
      "2\n",
      "3\n",
      "4\n",
      "5\n",
      "No i available\n"
     ]
    }
   ],
   "source": [
    "for i in range(6):\n",
    "    print(i)\n",
    "    i=i+1\n",
    "else:\n",
    "    print(\"No i available\")\n",
    "    \n",
    "    "
   ]
  },
  {
   "cell_type": "code",
   "execution_count": 13,
   "id": "3d1f2567-1aa5-4b8e-983e-10232f816fa0",
   "metadata": {},
   "outputs": [
    {
     "name": "stdin",
     "output_type": "stream",
     "text": [
      "Enter the number 123\n"
     ]
    },
    {
     "name": "stdout",
     "output_type": "stream",
     "text": [
      "Multiplication of table 123 is\n",
      "Table is 123 * 1 = 123\n",
      "Table is 123 * 2 = 246\n",
      "Table is 123 * 3 = 369\n",
      "Table is 123 * 4 = 492\n",
      "Table is 123 * 5 = 615\n",
      "Table is 123 * 6 = 738\n",
      "Table is 123 * 7 = 861\n",
      "Table is 123 * 8 = 984\n",
      "Table is 123 * 9 = 1107\n",
      "Table is 123 * 10 = 1230\n",
      "Do again for another number\n"
     ]
    }
   ],
   "source": [
    "#exception handling\n",
    "a= int(input(\"Enter the number\"))\n",
    "print(f\"Multiplication of table {a} is\")\n",
    "try:\n",
    "    for i in range(1,11):\n",
    "        print(f\"Table is {int(a)} * {i} = {int(a)*i}\")\n",
    "except:\n",
    "    print(\"Invalid input\")\n",
    "finally:\n",
    "    print(\"Do again for another number\")\n",
    "    \n",
    "    "
   ]
  },
  {
   "cell_type": "code",
   "execution_count": 18,
   "id": "452dab0e-b123-40b1-a892-8949a53eaeb2",
   "metadata": {},
   "outputs": [
    {
     "name": "stdout",
     "output_type": "stream",
     "text": [
      "12\n",
      "23\n",
      "67\n",
      "43\n",
      "Rajan\n",
      "33\n"
     ]
    }
   ],
   "source": [
    "marks =[12,23, 67,43,33]\n",
    "index=0\n",
    "for mark in (marks):\n",
    "    print(mark)\n",
    "    if index ==3:\n",
    "        print(\"Rajan\")\n",
    "    index+=1    "
   ]
  },
  {
   "cell_type": "code",
   "execution_count": 20,
   "id": "69e679af-73b0-4373-b5fb-b25c2cd178bf",
   "metadata": {},
   "outputs": [
    {
     "name": "stdout",
     "output_type": "stream",
     "text": [
      "6.708203932499369\n"
     ]
    }
   ],
   "source": [
    "import math\n",
    "c= math.sqrt(45)\n",
    "print(c)"
   ]
  },
  {
   "cell_type": "code",
   "execution_count": 25,
   "id": "f2c86617-9b7e-4aa0-8bbe-43cf8d825cf6",
   "metadata": {},
   "outputs": [
    {
     "name": "stdout",
     "output_type": "stream",
     "text": [
      "6.283185307179586\n"
     ]
    }
   ],
   "source": [
    "from math import pi \n",
    "d=2*pi\n",
    "print(d)"
   ]
  },
  {
   "cell_type": "code",
   "execution_count": 35,
   "id": "d3aca6e4-0200-47f7-990d-dc471637628a",
   "metadata": {},
   "outputs": [],
   "source": [
    "import os\n",
    "\n",
    "base_path = r\"C:\\Users\\asus\\Music\"\n",
    "\n",
    "# Create the base folder if it doesn't exist\n",
    "os.makedirs(base_path, exist_ok=True)\n",
    "for i in range(100):\n",
    "    folder_path = os.path.join(base_path, f\"day {i+1}\")\n",
    "    os.makedirs(folder_path, exist_ok=True)\n"
   ]
  },
  {
   "cell_type": "code",
   "execution_count": 49,
   "id": "969ed367-a2c7-4d42-acf0-731bf3b993c5",
   "metadata": {},
   "outputs": [
    {
     "name": "stdout",
     "output_type": "stream",
     "text": [
      "TypeScript Notes - Easy Explanation\n",
      "\n",
      "1. Arrays\n",
      "let array : number[]=[1,2,3,4,5,5]\n",
      "\n",
      "What it means: Arrays store multiple values of the same type. Here we have an array that can only hold numbers.\n",
      "\n",
      "2. Tuples\n",
      "let arr:[number, string, boolean]=[1,\"hello\",true]\n",
      "\n",
      "What it means: Tuples are like arrays but with fixed types in specific positions. First position must be number, second must be string, third must be boolean.\n",
      "\n",
      "3. Enumerations (Enums)\n",
      "enum UserRoles {\n",
      "    Admin = \"admin\",\n",
      "    User = \"user\", \n",
      "    Guest = \"guest\"\n",
      "}\n",
      "\n",
      "What it means: Enums are like a list of named constants. Instead of remembering \"admin\", \"user\", \"guest\", you can use UserRoles.Admin, UserRoles.User, etc.\n",
      "\n",
      "4. Any Type\n",
      "let a1 : any;\n",
      "\n",
      "What it means: any means the variable can be anything - number, string, boolean, object, etc. It's like turning off TypeScript checking for that variable.\n",
      "\n",
      "5. Unknown Type\n",
      "let b: unknown;\n",
      "b = 10;\n",
      "b = \"hello\";\n",
      "if (typeof b === \"string\")\n",
      "    b.toUpperCase();\n",
      "\n",
      "What it means: unknown is safer than any. You can assign anything to it, but you must check its type before using it.\n",
      "\n",
      "6. Union Types (Type Inference)\n",
      "let c : string | number | boolean;\n",
      "c = 12;\n",
      "c = \"hello\";\n",
      "c = true;\n",
      "\n",
      "What it means: The | symbol means \"OR\". This variable can be a string OR number OR boolean.\n",
      "\n",
      "7. Type Assertion\n",
      "let d : any = \"rajan\";\n",
      "(d as string).toUpperCase();\n",
      "\n",
      "What it means: You're telling TypeScript \"trust me, I know this is a string\" so you can use string methods on it.\n",
      "\n",
      "8. Interfaces\n",
      "interface User{\n",
      "    id: number;\n",
      "    name: string;\n",
      "    email: string;\n",
      "}\n",
      "\n",
      "What it means: Interfaces define the shape/structure of an object. Any object using this interface must have id (number), name (string), and email (string).\n",
      "\n",
      "9. Type Aliases\n",
      "type sankhya = number;\n",
      "let a: sankhya = 5;\n",
      "\n",
      "type naam = string;\n",
      "let x: naam = \"rajan\";\n",
      "\n",
      "What it means: Type aliases let you create custom names for existing types. sankhya is just another name for number.\n",
      "\n",
      "10. Intersection Types\n",
      "type A = { a: number };\n",
      "type B = { b: string };\n",
      "type C = A & B;\n",
      "\n",
      "What it means: The & symbol combines types. Type C must have both properties from A AND B.\n",
      "\n",
      "11. Classes and Inheritance\n",
      "class Device {\n",
      "    constructor(public name: string, public brand: string, public model: string) {\n",
      "    }\n",
      "}\n",
      "\n",
      "class d1 extends Device {\n",
      "    constructor() {\n",
      "        super(\"d1\", \"samsung\", \"Galaxy S21\");\n",
      "    }\n",
      "}\n",
      "\n",
      "What it means: Classes are blueprints for creating objects. extends means d1 inherits all properties from Device. super() calls the parent constructor.\n",
      "\n",
      "12. Getters and Setters\n",
      "class Fru{\n",
      "    constructor(public _name:string, public age:number) {}\n",
      "\n",
      "    get name() {\n",
      "        return this._name;\n",
      "    }\n",
      "\n",
      "    set name(newName:string) {\n",
      "        this._name = newName;\n",
      "    }\n",
      "}\n",
      "\n",
      "What it means: Getters and setters let you control how properties are accessed and modified. You can add validation or logic when getting/setting values.\n",
      "\n",
      "13. Static Members\n",
      "class rajju{\n",
      "    static version=\"1.0\";\n",
      "    \n",
      "    static getRandomNumber() {\n",
      "        return Math.random();\n",
      "    }\n",
      "}\n",
      "\n",
      "What it means: Static members belong to the class itself, not to instances. You call them directly on the class: rajju.version\n",
      "\n",
      "14. Functions with Callbacks\n",
      "function rajjju (name:string, age: number, callback:(arg:string)=> void){\n",
      "    callback(\"babu\");\n",
      "}\n",
      "\n",
      "What it means: A callback is a function passed as parameter to another function. The callback will be called later with specific arguments.\n",
      "\n",
      "15. Optional Parameters\n",
      "function petu(name:string, age:number, city:string=\"Patna\") {\n",
      "    console.log(name,age,city)\n",
      "}\n",
      "\n",
      "What it means: Optional parameters have default values. If you don't provide city, it defaults to \"Patna\".\n",
      "\n",
      "16. Rest Parameters\n",
      "function sum(...numbers: number[]){\n",
      "    console.log(numbers)\n",
      "}\n",
      "sum(1, 2, 3, 4, 5);\n",
      "\n",
      "What it means: The ... (spread operator) lets you pass unlimited arguments. They get collected into an array.\n",
      "\n",
      "17. Function Overloading\n",
      "function abcd(a:string):void;\n",
      "function abcd(a:number):void;\n",
      "function abcd(a:any):void {\n",
      "    // implementation\n",
      "}\n",
      "\n",
      "What it means: Same function name can handle different parameter types. TypeScript checks which version to use based on the argument type.\n",
      "\n",
      "18. Generics\n",
      "function logger<T>(a:T){\n",
      "    console.log(`Value: ${a}`);\n",
      "}\n",
      "\n",
      "What it means: Generics let you create reusable code that works with different types. <T> is a placeholder for any type you specify when calling the function.\n",
      "\n",
      "19. Modules\n",
      "import { addPayment, processPayment } from './payment';\n",
      "\n",
      "What it means: Modules let you organize code into separate files. You export from one file and import in another to use the code.\n",
      "\n",
      "20. Type Casting\n",
      "let z: number = Number(\"12\");\n",
      "\n",
      "What it means: Converting one type to another. Here we're converting string \"12\" to number 12.\n",
      "\n",
      "21. Type Guards\n",
      "function printId(id: number | string) {\n",
      "    if (typeof id === \"string\") {\n",
      "        console.log(`String ID: ${id.toUpperCase()}`);\n",
      "    } else {\n",
      "        console.log(`Number ID: ${id.toFixed(2)}`);\n",
      "    }\n",
      "}\n",
      "\n",
      "What it means: Type guards help you check what type a variable is before using type-specific methods. This prevents runtime errors.\n",
      "\n",
      "Key Takeaways:\n",
      "- TypeScript adds type safety to JavaScript\n",
      "- Types help catch errors before running code\n",
      "- You can be strict (specific types) or flexible (any, unknown, union types)\n",
      "- Classes and interfaces help organize complex code\n",
      "- Generics make code reusable for different types\n",
      "- Type guards ensure safe operations on variables\n"
     ]
    }
   ],
   "source": [
    "f=open(r\"C:\\Users\\asus\\Documents\\typescript 2\\notes.txt\", \"r\")\n",
    "text = f.read()\n",
    "print(text)"
   ]
  },
  {
   "cell_type": "code",
   "execution_count": 50,
   "id": "5f50122c-2c8a-40d3-9bde-977fbc48c551",
   "metadata": {},
   "outputs": [],
   "source": [
    "# f=open(r\"C:\\Users\\asus\\Documents\\typescript 2\\notes.txt\", \"w\")\n",
    "# txt=f.write(\"Hello World!\")\n",
    "# print(txt)"
   ]
  },
  {
   "cell_type": "code",
   "execution_count": 57,
   "id": "a9c4de29-ed6a-44d2-92b2-673672096124",
   "metadata": {},
   "outputs": [
    {
     "name": "stdout",
     "output_type": "stream",
     "text": [
      "TypeScript Notes - Easy Explanation\n",
      "\n",
      "1. Arrays\n",
      "let array : number[]=[1,2,3,4,5,5]\n",
      "\n",
      "What it means: Arrays store multiple values of the same type. Here we have an array that can only hold numbers.\n",
      "\n",
      "2. Tuples\n",
      "let arr:[number, string, boolean]=[1,\"hello\",true]\n",
      "\n",
      "What it means: Tuples are like arrays but with fixed types in specific positions. First position must be number, second must be string, third must be boolean.\n",
      "\n",
      "3. Enumerations (Enums)\n",
      "enum UserRoles {\n",
      "Admin = \"admin\",\n",
      "User = \"user\",\n",
      "Guest = \"guest\"\n",
      "}\n",
      "\n",
      "What it means: Enums are like a list of named constants. Instead of remembering \"admin\", \"user\", \"guest\", you can use UserRoles.Admin, UserRoles.User, etc.\n",
      "\n",
      "4. Any Type\n",
      "let a1 : any;\n",
      "\n",
      "What it means: any means the variable can be anything - number, string, boolean, object, etc. It's like turning off TypeScript checking for that variable.\n",
      "\n",
      "5. Unknown Type\n",
      "let b: unknown;\n",
      "b = 10;\n",
      "b = \"hello\";\n",
      "if (typeof b === \"string\")\n",
      "b.toUpperCase();\n",
      "\n",
      "What it means: unknown is safer than any. You can assign anything to it, but you must check its type before using it.\n",
      "\n",
      "6. Union Types (Type Inference)\n",
      "let c : string | number | boolean;\n",
      "c = 12;\n",
      "c = \"hello\";\n",
      "c = true;\n",
      "\n",
      "What it means: The | symbol means \"OR\". This variable can be a string OR number OR boolean.\n",
      "\n",
      "7. Type Assertion\n",
      "let d : any = \"rajan\";\n",
      "(d as string).toUpperCase();\n",
      "\n",
      "What it means: You're telling TypeScript \"trust me, I know this is a string\" so you can use string methods on it.\n",
      "\n",
      "8. Interfaces\n",
      "interface User{\n",
      "id: number;\n",
      "name: string;\n",
      "email: string;\n",
      "}\n",
      "\n",
      "What it means: Interfaces define the shape/structure of an object. Any object using this interface must have id (number), name (string), and email (string).\n",
      "\n",
      "9. Type Aliases\n",
      "type sankhya = number;\n",
      "let a: sankhya = 5;\n",
      "\n",
      "type naam = string;\n",
      "let x: naam = \"rajan\";\n",
      "\n",
      "What it means: Type aliases let you create custom names for existing types. sankhya is just another name for number.\n",
      "\n",
      "10. Intersection Types\n",
      "type A = { a: number };\n",
      "type B = { b: string };\n",
      "type C = A & B;\n",
      "\n",
      "What it means: The & symbol combines types. Type C must have both properties from A AND B.\n",
      "\n",
      "11. Classes and Inheritance\n",
      "class Device {\n",
      "constructor(public name: string, public brand: string, public model: string) {\n",
      "}\n",
      "}\n",
      "\n",
      "class d1 extends Device {\n",
      "constructor() {\n",
      "super(\"d1\", \"samsung\", \"Galaxy S21\");\n",
      "}\n",
      "}\n",
      "\n",
      "What it means: Classes are blueprints for creating objects. extends means d1 inherits all properties from Device. super() calls the parent constructor.\n",
      "\n",
      "12. Getters and Setters\n",
      "class Fru{\n",
      "constructor(public _name:string, public age:number) {}\n",
      "\n",
      "get name() {\n",
      "return this._name;\n",
      "}\n",
      "\n",
      "set name(newName:string) {\n",
      "this._name = newName;\n",
      "}\n",
      "}\n",
      "\n",
      "What it means: Getters and setters let you control how properties are accessed and modified. You can add validation or logic when getting/setting values.\n",
      "\n",
      "13. Static Members\n",
      "class rajju{\n",
      "static version=\"1.0\";\n",
      "\n",
      "static getRandomNumber() {\n",
      "return Math.random();\n",
      "}\n",
      "}\n",
      "\n",
      "What it means: Static members belong to the class itself, not to instances. You call them directly on the class: rajju.version\n",
      "\n",
      "14. Functions with Callbacks\n",
      "function rajjju (name:string, age: number, callback:(arg:string)=> void){\n",
      "callback(\"babu\");\n",
      "}\n",
      "\n",
      "What it means: A callback is a function passed as parameter to another function. The callback will be called later with specific arguments.\n",
      "\n",
      "15. Optional Parameters\n",
      "function petu(name:string, age:number, city:string=\"Patna\") {\n",
      "console.log(name,age,city)\n",
      "}\n",
      "\n",
      "What it means: Optional parameters have default values. If you don't provide city, it defaults to \"Patna\".\n",
      "\n",
      "16. Rest Parameters\n",
      "function sum(...numbers: number[]){\n",
      "console.log(numbers)\n",
      "}\n",
      "sum(1, 2, 3, 4, 5);\n",
      "\n",
      "What it means: The ... (spread operator) lets you pass unlimited arguments. They get collected into an array.\n",
      "\n",
      "17. Function Overloading\n",
      "function abcd(a:string):void;\n",
      "function abcd(a:number):void;\n",
      "function abcd(a:any):void {\n",
      "// implementation\n",
      "}\n",
      "\n",
      "What it means: Same function name can handle different parameter types. TypeScript checks which version to use based on the argument type.\n",
      "\n",
      "18. Generics\n",
      "function logger<T>(a:T){\n",
      "console.log(`Value: ${a}`);\n",
      "}\n",
      "\n",
      "What it means: Generics let you create reusable code that works with different types. <T> is a placeholder for any type you specify when calling the function.\n",
      "\n",
      "19. Modules\n",
      "import { addPayment, processPayment } from './payment';\n",
      "\n",
      "What it means: Modules let you organize code into separate files. You export from one file and import in another to use the code.\n",
      "\n",
      "20. Type Casting\n",
      "let z: number = Number(\"12\");\n",
      "\n",
      "What it means: Converting one type to another. Here we're converting string \"12\" to number 12.\n",
      "\n",
      "21. Type Guards\n",
      "function printId(id: number | string) {\n",
      "if (typeof id === \"string\") {\n",
      "console.log(`String ID: ${id.toUpperCase()}`);\n",
      "} else {\n",
      "console.log(`Number ID: ${id.toFixed(2)}`);\n",
      "}\n",
      "}\n",
      "\n",
      "What it means: Type guards help you check what type a variable is before using type-specific methods. This prevents runtime errors.\n",
      "\n",
      "Key Takeaways:\n",
      "- TypeScript adds type safety to JavaScript\n",
      "- Types help catch errors before running code\n",
      "- You can be strict (specific types) or flexible (any, unknown, union types)\n",
      "- Classes and interfaces help organize complex code\n",
      "- Generics make code reusable for different types\n",
      "- Type guards ensure safe operations on variables\n"
     ]
    }
   ],
   "source": [
    "with open(r\"C:\\Users\\asus\\Documents\\typescript 2\\notes.txt\", \"r\") as file:\n",
    "    line = file.readline()\n",
    "    while line:\n",
    "        print(line.strip())\n",
    "        line = file.readline()  # one readline per iteration\n"
   ]
  },
  {
   "cell_type": "code",
   "execution_count": 64,
   "id": "35b6b7d1-56c5-47bc-9e40-9f9963bbf332",
   "metadata": {},
   "outputs": [
    {
     "name": "stdout",
     "output_type": "stream",
     "text": [
      " Note\n",
      "<class '_io.TextIOWrapper'>\n"
     ]
    }
   ],
   "source": [
    "with open(r\"C:\\Users\\asus\\Documents\\typescript 2\\notes.txt\", \"r\") as f:\n",
    "    f.seek(10)\n",
    "    data = f.read(5)\n",
    "    print(data)\n",
    "    print(type(f))"
   ]
  },
  {
   "cell_type": "code",
   "execution_count": 4,
   "id": "615dcb8f-aa1d-45dc-9eef-5a13c35be64a",
   "metadata": {},
   "outputs": [
    {
     "name": "stdout",
     "output_type": "stream",
     "text": [
      "[1, 4, 9, 16, 25]\n"
     ]
    }
   ],
   "source": [
    "#map\n",
    "numbers = [1,2,3,4,5]\n",
    "result=map(lambda x:x**2, numbers)\n",
    "print(list(result))"
   ]
  },
  {
   "cell_type": "code",
   "execution_count": 10,
   "id": "1fb2089c-ab80-40f4-8e1b-9e3d8b5ee604",
   "metadata": {},
   "outputs": [
    {
     "name": "stdout",
     "output_type": "stream",
     "text": [
      "Person(name=Alice)\n",
      "Rajan\n"
     ]
    }
   ],
   "source": [
    "# They are methods that let you control access to the attributes (variables) of a class.\n",
    "\n",
    "# Getter → Used to get (read) the value of an attribute.\n",
    "\n",
    "# Setter → Used to set (update) the value of an attribute safely.\n",
    "class Person:\n",
    "    def __init__(self, name):\n",
    "        self._name = name   # private variable (convention: _name)\n",
    "\n",
    "    @property\n",
    "    def name(self):\n",
    "        return self._name\n",
    "\n",
    "    @name.setter\n",
    "    def name(self, value):\n",
    "        if isinstance(value, str) and value.strip():\n",
    "            self._name = value\n",
    "        else:\n",
    "            raise ValueError(\"Name must be a non-empty string\")\n",
    "\n",
    "    def __str__(self):\n",
    "        return f\"Person(name={self._name})\"\n",
    "\n",
    "\n",
    "# Create object\n",
    "person = Person(\"Alice\")\n",
    "print(person)   \n",
    "person.name=\"Rajan\"\n",
    "print(person.name)\n",
    "\n",
    "        "
   ]
  },
  {
   "cell_type": "code",
   "execution_count": 8,
   "id": "3f4c3e9d-c47e-4f52-96c7-54cd8b199570",
   "metadata": {},
   "outputs": [
    {
     "name": "stdout",
     "output_type": "stream",
     "text": [
      "Rajan is of 1\n",
      "SDM is best programmer\n"
     ]
    }
   ],
   "source": [
    "#Inheritance\n",
    "class Employee:\n",
    "    def __init__(self, id, name):\n",
    "        self.name=name\n",
    "        self.id=id\n",
    "    def show(self):\n",
    "        print(f\"{self.name} is of {self.id}\")\n",
    "class Programmer(Employee):\n",
    "    def Programmer(self):\n",
    "        print(f\"{self.name} is best programmer\")\n",
    "\n",
    "\n",
    "e1=Employee(1, \"Rajan\")\n",
    "e1.show()\n",
    "e2=Programmer(2,\"SDM\")\n",
    "e2.Programmer()"
   ]
  },
  {
   "cell_type": "code",
   "execution_count": 2,
   "id": "6c7232b7-b421-4a22-bf5e-ea35c9cbe070",
   "metadata": {},
   "outputs": [
    {
     "name": "stdin",
     "output_type": "stream",
     "text": [
      "Enter 0 for rock, 1 for paper, and 2 for scissors 1\n"
     ]
    },
    {
     "name": "stdout",
     "output_type": "stream",
     "text": [
      "you : 1\n",
      "Computer choice: 0\n",
      "You lose\n"
     ]
    }
   ],
   "source": [
    "import random\n",
    "\n",
    "def check(comp, user):\n",
    "    if comp==user:\n",
    "        return -1\n",
    "    if(comp==0 and user==1):\n",
    "        return -1\n",
    "    if(comp==1 and user==2):\n",
    "        return -1\n",
    "    if(comp==2 and user==0):\n",
    "        return -1\n",
    "\n",
    "user = int(input(\"Enter 0 for rock, 1 for paper, and 2 for scissors\"))\n",
    "comp=random.randint(0,2)\n",
    "score = check(comp, user)\n",
    "print(\"you :\",user)\n",
    "print(\"Computer choice:\", comp)\n",
    "\n",
    "if score==0:\n",
    "    print(\"It tied\")\n",
    "elif score==-1:\n",
    "    print(\"You lose\")\n",
    "else:\n",
    "    print(\"You win\")\n",
    "    "
   ]
  },
  {
   "cell_type": "code",
   "execution_count": 7,
   "id": "5c8a4685-31d3-49ee-834f-ead9c46e42c3",
   "metadata": {},
   "outputs": [
    {
     "name": "stdout",
     "output_type": "stream",
     "text": [
      "I am public\n",
      "public method\n"
     ]
    }
   ],
   "source": [
    "class Beta:\n",
    "    def __init__(self):\n",
    "        self.public_var=\"I am public\"\n",
    "\n",
    "    def public_method(self):\n",
    "        return \"public method\"\n",
    "\n",
    "\n",
    "ob1=Beta()\n",
    "print(ob1.public_var)\n",
    "print(ob1.public_method())\n",
    "        "
   ]
  },
  {
   "cell_type": "code",
   "execution_count": 15,
   "id": "4940b026-885f-4c89-a18e-2eb4f0676c8d",
   "metadata": {},
   "outputs": [
    {
     "name": "stdout",
     "output_type": "stream",
     "text": [
      "I am protected\n",
      "Protect your thus gang\n"
     ]
    }
   ],
   "source": [
    "#protected using prefix _\n",
    "class Tume:\n",
    "    def __init__(self):\n",
    "        self._protected_var=\"I am protected\"\n",
    "\n",
    "    def _protected_method(self):\n",
    "        return \"Protect your thus gang\"\n",
    "\n",
    "class Betta(Tume):\n",
    "    def access_protected(self):\n",
    "        return self._protected_var\n",
    "\n",
    "obj1=Betta()\n",
    "print(obj1.access_protected())\n",
    "print(obj1._protected_method())\n",
    "        "
   ]
  },
  {
   "cell_type": "code",
   "execution_count": 23,
   "id": "95e9a1c9-af79-403c-a08f-da1094885408",
   "metadata": {},
   "outputs": [
    {
     "name": "stdout",
     "output_type": "stream",
     "text": [
      "I am private\n"
     ]
    }
   ],
   "source": [
    "class Private:\n",
    "    def __init__(self):\n",
    "        self.__private_var = \"I am private\"\n",
    "\n",
    "    def __private_method(self):\n",
    "        return \"Private your credentials before rajan's attack\"\n",
    "\n",
    "class Bettta(Private):\n",
    "    def access_private(self):\n",
    "        return self._Private__private_var  \n",
    "\n",
    "\n",
    "obb1 = Bettta()\n",
    "print(obb1.access_private())   \n"
   ]
  },
  {
   "cell_type": "code",
   "execution_count": null,
   "id": "5f38deb5-35a6-4e93-b62d-b2e451656f1c",
   "metadata": {},
   "outputs": [],
   "source": []
  }
 ],
 "metadata": {
  "kernelspec": {
   "display_name": "Python 3 (ipykernel)",
   "language": "python",
   "name": "python3"
  },
  "language_info": {
   "codemirror_mode": {
    "name": "ipython",
    "version": 3
   },
   "file_extension": ".py",
   "mimetype": "text/x-python",
   "name": "python",
   "nbconvert_exporter": "python",
   "pygments_lexer": "ipython3",
   "version": "3.12.3"
  }
 },
 "nbformat": 4,
 "nbformat_minor": 5
}
